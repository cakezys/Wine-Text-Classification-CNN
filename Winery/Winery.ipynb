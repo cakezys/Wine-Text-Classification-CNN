{
 "cells": [
  {
   "cell_type": "code",
   "execution_count": 394,
   "metadata": {
    "collapsed": true
   },
   "outputs": [],
   "source": [
    "import pandas as pd\n",
    "import seaborn as sns\n",
    "%matplotlib inline\n",
    "import matplotlib.pyplot as plt\n",
    "import numpy as np\n",
    "from sklearn.linear_model import LinearRegression\n",
    "from sklearn.cross_validation import train_test_split\n",
    "from sklearn.preprocessing import PolynomialFeatures\n",
    "import nltk\n",
    "import random\n",
    "import series"
   ]
  },
  {
   "cell_type": "code",
   "execution_count": 396,
   "metadata": {},
   "outputs": [
    {
     "data": {
      "text/plain": [
       "<matplotlib.axes._subplots.AxesSubplot at 0x1d680bffa90>"
      ]
     },
     "execution_count": 396,
     "metadata": {},
     "output_type": "execute_result"
    },
    {
     "data": {
      "image/png": "[encoded data removed]",
      "text/plain": [
       "<matplotlib.figure.Figure at 0x1d680bff240>"
      ]
     },
     "metadata": {},
     "output_type": "display_data"
    }
   ],
   "source": [
    "reviews = pd.read_csv(r\"C:\\Users\\Caitlynne\\Desktop\\Spring 2018 Classes\\Computational Methods for Data Analytics\\HW\\python\\Winery\\data\\winemag-data-130k-v2.csv\", index_col=0)\n",
    "sns.countplot(reviews['points'])"
   ]
  },
  {
   "cell_type": "code",
   "execution_count": 397,
   "metadata": {},
   "outputs": [
    {
     "data": {
      "text/html": [
       "<div>\n",
       "<style scoped>\n",
       "    .dataframe tbody tr th:only-of-type {\n",
       "        vertical-align: middle;\n",
       "    }\n",
       "\n",
       "    .dataframe tbody tr th {\n",
       "        vertical-align: top;\n",
       "    }\n",
       "\n",
       "    .dataframe thead th {\n",
       "        text-align: right;\n",
       "    }\n",
       "</style>\n",
       "<table border=\"1\" class=\"dataframe\">\n",
       "  <thead>\n",
       "    <tr style=\"text-align: right;\">\n",
       "      <th></th>\n",
       "      <th>points</th>\n",
       "      <th>price</th>\n",
       "    </tr>\n",
       "  </thead>\n",
       "  <tbody>\n",
       "    <tr>\n",
       "      <th>count</th>\n",
       "      <td>129971.000000</td>\n",
       "      <td>120975.000000</td>\n",
       "    </tr>\n",
       "    <tr>\n",
       "      <th>mean</th>\n",
       "      <td>88.447138</td>\n",
       "      <td>35.363389</td>\n",
       "    </tr>\n",
       "    <tr>\n",
       "      <th>std</th>\n",
       "      <td>3.039730</td>\n",
       "      <td>41.022218</td>\n",
       "    </tr>\n",
       "    <tr>\n",
       "      <th>min</th>\n",
       "      <td>80.000000</td>\n",
       "      <td>4.000000</td>\n",
       "    </tr>\n",
       "    <tr>\n",
       "      <th>25%</th>\n",
       "      <td>86.000000</td>\n",
       "      <td>17.000000</td>\n",
       "    </tr>\n",
       "    <tr>\n",
       "      <th>50%</th>\n",
       "      <td>88.000000</td>\n",
       "      <td>25.000000</td>\n",
       "    </tr>\n",
       "    <tr>\n",
       "      <th>75%</th>\n",
       "      <td>91.000000</td>\n",
       "      <td>42.000000</td>\n",
       "    </tr>\n",
       "    <tr>\n",
       "      <th>max</th>\n",
       "      <td>100.000000</td>\n",
       "      <td>3300.000000</td>\n",
       "    </tr>\n",
       "  </tbody>\n",
       "</table>\n",
       "</div>"
      ],
      "text/plain": [
       "<div>\n",
       "<style scoped>\n",
       "    .dataframe tbody tr th:only-of-type {\n",
       "        vertical-align: middle;\n",
       "    }\n",
       "\n",
       "    .dataframe tbody tr th {\n",
       "        vertical-align: top;\n",
       "    }\n",
       "\n",
       "    .dataframe thead th {\n",
       "        text-align: right;\n",
       "    }\n",
       "</style>\n",
       "<table border=\"1\" class=\"dataframe\">\n",
       "  <thead>\n",
       "    <tr style=\"text-align: right;\">\n",
       "      <th></th>\n",
       "      <th>points</th>\n",
       "      <th>price</th>\n",
       "    </tr>\n",
       "  </thead>\n",
       "  <tbody>\n",
       "    <tr>\n",
       "      <th>count</th>\n",
       "      <td>129971.000000</td>\n",
       "      <td>120975.000000</td>\n",
       "    </tr>\n",
       "    <tr>\n",
       "      <th>mean</th>\n",
       "      <td>88.447138</td>\n",
       "      <td>35.363389</td>\n",
       "    </tr>\n",
       "    <tr>\n",
       "      <th>std</th>\n",
       "      <td>3.039730</td>\n",
       "      <td>41.022218</td>\n",
       "    </tr>\n",
       "    <tr>\n",
       "      <th>min</th>\n",
       "      <td>80.000000</td>\n",
       "      <td>4.000000</td>\n",
       "    </tr>\n",
       "    <tr>\n",
       "      <th>25%</th>\n",
       "      <td>86.000000</td>\n",
       "      <td>17.000000</td>\n",
       "    </tr>\n",
       "    <tr>\n",
       "      <th>50%</th>\n",
       "      <td>88.000000</td>\n",
       "      <td>25.000000</td>\n",
       "    </tr>\n",
       "    <tr>\n",
       "      <th>75%</th>\n",
       "      <td>91.000000</td>\n",
       "      <td>42.000000</td>\n",
       "    </tr>\n",
       "    <tr>\n",
       "      <th>max</th>\n",
       "      <td>100.000000</td>\n",
       "      <td>3300.000000</td>\n",
       "    </tr>\n",
       "  </tbody>\n",
       "</table>\n",
       "</div>"
      ]
     },
     "execution_count": 397,
     "metadata": {},
     "output_type": "execute_result"
    }
   ],
   "source": [
    "reviews.describe()"
   ]
  },
  {
   "cell_type": "code",
   "execution_count": 398,
   "metadata": {},
   "outputs": [],
   "source": [
    "reviews.shape\n",
    "df = pd.DataFrame(reviews, range(129971))"
   ]
  },
  {
   "cell_type": "code",
   "execution_count": 399,
   "metadata": {},
   "outputs": [
    {
     "name": "stdout",
     "output_type": "stream",
     "text": [
      "   country                                        description  \\\n4       US  Much like the regular bottling from 2012, this...   \n5    Spain  Blackberry and raspberry aromas show a typical...   \n6    Italy  Here's a bright, informal red that opens with ...   \n9   France  This has great depth of flavor with its fresh ...   \n10      US  Soft, supple plum envelopes an oaky structure ...   \n\n                           designation  points  price           province  \\\n4   Vintner's Reserve Wild Child Block      87   65.0             Oregon   \n5                         Ars In Vitro      87   15.0     Northern Spain   \n6                              Belsito      87   16.0  Sicily & Sardinia   \n9                          Les Natures      87   27.0             Alsace   \n10                      Mountain Cuvée      87   19.0         California   \n\n             region_1           region_2        taster_name  \\\n4   Willamette Valley  Willamette Valley       Paul Gregutt   \n5             Navarra                NaN  Michael Schachner   \n6            Vittoria                NaN      Kerin O’Keefe   \n9              Alsace                NaN         Roger Voss   \n10        Napa Valley               Napa     Virginie Boone   \n\n   taster_twitter_handle                                              title  \\\n4            @paulgwine   Sweet Cheeks 2012 Vintner's Reserve Wild Child...   \n5            @wineschach  Tandem 2011 Ars In Vitro Tempranillo-Merlot (N...   \n6           @kerinokeefe   Terre di Giurfo 2013 Belsito Frappato (Vittoria)   \n9             @vossroger  Jean-Baptiste Adam 2012 Les Natures Pinot Gris...   \n10               @vboone  Kirkland Signature 2011 Mountain Cuvée Caberne...   \n\n               variety              winery  \n4           Pinot Noir        Sweet Cheeks  \n5   Tempranillo-Merlot              Tandem  \n6             Frappato     Terre di Giurfo  \n9           Pinot Gris  Jean-Baptiste Adam  \n10  Cabernet Sauvignon  Kirkland Signature  \n"
     ]
    }
   ],
   "source": [
    "df['country'].replace('', np.nan, inplace=True)\n",
    "df.dropna(subset=['country'], inplace=True)\n",
    "df['description'].replace('', np.nan, inplace=True)\n",
    "df.dropna(subset=['description'], inplace=True)\n",
    "df['designation'].replace('', np.nan, inplace=True)\n",
    "df.dropna(subset=['designation'], inplace=True)\n",
    "df['points'].replace('', np.nan, inplace=True)\n",
    "df.dropna(subset=['points'], inplace=True)\n",
    "df['price'].replace('', np.nan, inplace=True)\n",
    "df.dropna(subset=['price'], inplace=True)\n",
    "df['province'].replace('', np.nan, inplace=True)\n",
    "df.dropna(subset=['province'], inplace=True)\n",
    "df['region_1'].replace('', np.nan, inplace=True)\n",
    "df.dropna(subset=['region_1'], inplace=True)\n",
    "#df['region_2'].replace('', np.nan, inplace=True)\n",
    "#df.dropna(subset=['region_2'], inplace=True)\n",
    "df['taster_name'].replace('', np.nan, inplace=True)\n",
    "df.dropna(subset=['taster_name'], inplace=True)\n",
    "df['taster_twitter_handle'].replace('', np.nan, inplace=True)\n",
    "df.dropna(subset=['taster_twitter_handle'], inplace=True)\n",
    "df['title'].replace('', np.nan, inplace=True)\n",
    "df.dropna(subset=['title'], inplace=True)\n",
    "df['variety'].replace('', np.nan, inplace=True)\n",
    "df.dropna(subset=['variety'], inplace=True)\n",
    "df['winery'].replace('', np.nan, inplace=True)\n",
    "df.dropna(subset=['winery'], inplace=True)\n",
    "print(df.head())"
   ]
  },
  {
   "cell_type": "code",
   "execution_count": 400,
   "metadata": {},
   "outputs": [
    {
     "name": "stdout",
     "output_type": "stream",
     "text": [
      "   country   age                                        description  \\\n4       US  2012  Much like the regular bottling from 2012, this...   \n5    Spain  2011  Blackberry and raspberry aromas show a typical...   \n6    Italy  2013  Here's a bright, informal red that opens with ...   \n9   France  2012  This has great depth of flavor with its fresh ...   \n10      US  2011  Soft, supple plum envelopes an oaky structure ...   \n\n                           designation  points  price           province  \\\n4   Vintner's Reserve Wild Child Block      87   65.0             Oregon   \n5                         Ars In Vitro      87   15.0     Northern Spain   \n6                              Belsito      87   16.0  Sicily & Sardinia   \n9                          Les Natures      87   27.0             Alsace   \n10                      Mountain Cuvée      87   19.0         California   \n\n             region_1           region_2        taster_name  \\\n4   Willamette Valley  Willamette Valley       Paul Gregutt   \n5             Navarra                NaN  Michael Schachner   \n6            Vittoria                NaN      Kerin O’Keefe   \n9              Alsace                NaN         Roger Voss   \n10        Napa Valley               Napa     Virginie Boone   \n\n   taster_twitter_handle                                              title  \\\n4            @paulgwine   Sweet Cheeks 2012 Vintner's Reserve Wild Child...   \n5            @wineschach  Tandem 2011 Ars In Vitro Tempranillo-Merlot (N...   \n6           @kerinokeefe   Terre di Giurfo 2013 Belsito Frappato (Vittoria)   \n9             @vossroger  Jean-Baptiste Adam 2012 Les Natures Pinot Gris...   \n10               @vboone  Kirkland Signature 2011 Mountain Cuvée Caberne...   \n\n               variety              winery  \n4           Pinot Noir        Sweet Cheeks  \n5   Tempranillo-Merlot              Tandem  \n6             Frappato     Terre di Giurfo  \n9           Pinot Gris  Jean-Baptiste Adam  \n10  Cabernet Sauvignon  Kirkland Signature  \n"
     ]
    }
   ],
   "source": [
    "df1 = (df.title.str.extract('(\\d+) (\\w+)', expand=True))\n",
    "df1.columns = ['age','b']\n",
    "df.insert(1, 'age', df1['age'])\n",
    "print(df.head())"
   ]
  },
  {
   "cell_type": "code",
   "execution_count": 401,
   "metadata": {},
   "outputs": [
    {
     "data": {
      "text/plain": [
       "(52106, 14)"
      ]
     },
     "execution_count": 401,
     "metadata": {},
     "output_type": "execute_result"
    }
   ],
   "source": [
    "df.shape"
   ]
  },
  {
   "cell_type": "code",
   "execution_count": 402,
   "metadata": {},
   "outputs": [
    {
     "name": "stdout",
     "output_type": "stream",
     "text": [
      "['Pinot Noir' 'Tempranillo-Merlot' 'Frappato' ... 'Pinot Gris'\n 'Gewürztraminer' 'Gewürztraminer']\n52106\n"
     ]
    }
   ],
   "source": [
    "a = df['variety'].values\n",
    "\n",
    "print(a)\n",
    "print(len(a))"
   ]
  },
  {
   "cell_type": "code",
   "execution_count": 403,
   "metadata": {},
   "outputs": [
    {
     "name": "stdout",
     "output_type": "stream",
     "text": [
      "['Abouriou', 'Aglianico', 'Airen', 'Albana', 'Albanello', 'Albariño', 'Aleatico', 'Alicante', 'Alicante Bouschet', 'Aligoté', 'Alsace white blend', 'Altesse', 'Alvarelhão', 'Apple', 'Arneis', 'Auxerrois', 'Baco Noir', 'Barbera', 'Barbera-Nebbiolo', 'Black Muscat', 'Blaufränkisch', 'Bobal', 'Bobal-Cabernet Sauvignon', 'Bonarda', 'Bordeaux-style Red Blend', 'Bordeaux-style White Blend', 'Bovale', 'Braucol', 'Cabernet', 'Cabernet Blend', 'Cabernet Franc', 'Cabernet Franc-Cabernet Sauvignon', 'Cabernet Franc-Malbec', 'Cabernet Franc-Merlot', 'Cabernet Merlot', 'Cabernet Sauvignon', 'Cabernet Sauvignon-Cabernet Franc', 'Cabernet Sauvignon-Malbec', 'Cabernet Sauvignon-Merlot', 'Cabernet Sauvignon-Merlot-Shiraz', 'Cabernet Sauvignon-Sangiovese', 'Cabernet Sauvignon-Shiraz', 'Cabernet Sauvignon-Syrah', 'Cabernet Sauvignon-Tempranillo', 'Cabernet-Malbec', 'Cabernet-Shiraz', 'Cabernet-Syrah', 'Canaiolo', 'Cannonau', 'Caprettone', 'Carcajolu', 'Carignan', 'Carignan-Grenache', 'Carignan-Syrah', 'Carignane', 'Carignano', 'Carineña', 'Cariñena-Garnacha', 'Carmenère', 'Carricante', 'Catalanesca', 'Catarratto', 'Cayuga', 'Centesimino', 'Cesanese', 'Chambourcin', 'Champagne Blend', 'Charbono', 'Chardonnay', 'Chardonnay-Pinot Blanc', 'Chardonnay-Sauvignon', 'Chardonnay-Sauvignon Blanc', 'Chardonnay-Semillon', 'Chardonnay-Viognier', 'Chasselas', 'Chenin Blanc', 'Chenin Blanc-Chardonnay', 'Ciliegiolo', 'Cinsault', 'Clairette', 'Claret', 'Coda di Volpe', 'Colombard', 'Colombard-Sauvignon Blanc', 'Colombard-Ugni Blanc', 'Cortese', 'Corvina', 'Counoise', 'Dolcetto', 'Dornfelder', 'Doña Blanca', 'Duras', 'Durella', 'Durif', 'Edelzwicker', 'Erbaluce', 'Falanghina', 'Favorita', 'Fer Servadou', 'Fiano', 'Francisa', 'Frappato', 'Freisa', 'Friulano', 'Fumé Blanc', 'G-S-M', 'Gaglioppo', 'Gamay', 'Gamay Noir', 'Garganega', 'Garnacha', 'Garnacha Blanca', 'Garnacha Blend', 'Garnacha Tintorera', 'Garnacha-Cabernet', 'Garnacha-Cariñena', 'Garnacha-Monastrell', 'Garnacha-Syrah', 'Garnacha-Tempranillo', 'Gewürztraminer', 'Gewürztraminer-Riesling', 'Glera', 'Godello', 'Graciano', 'Grecanico', 'Grechetto', 'Greco', 'Greco Bianco', 'Grenache', 'Grenache Blanc', 'Grenache Blend', 'Grenache Noir', 'Grenache-Carignan', 'Grenache-Mourvèdre', 'Grenache-Shiraz', 'Grenache-Syrah', 'Grillo', 'Grolleau', 'Gros and Petit Manseng', 'Gros Manseng', 'Grüner Veltliner', 'Hondarrabi Zuri', 'Incrocio Manzoni', 'Insolia', 'Inzolia', 'Jacquère', 'Jaen', 'Johannisberg Riesling', 'Kerner', 'Lagrein', 'Lambrusco', 'Lambrusco di Sorbara', 'Lambrusco Grasparossa', 'Lambrusco Salamino', 'Lemberger', \"Loin de l'Oeil\", 'Macabeo', 'Macabeo-Chardonnay', 'Macabeo-Moscatel', 'Madeleine Angevine', 'Magliocco', 'Malbec', 'Malbec Blend', 'Malbec-Bonarda', 'Malbec-Cabernet', 'Malbec-Cabernet Franc', 'Malbec-Cabernet Sauvignon', 'Malbec-Merlot', 'Malbec-Petit Verdot', 'Malbec-Syrah', 'Malbec-Tannat', 'Malbec-Tempranillo', 'Malvar', 'Malvasia', 'Malvasia Bianca', 'Malvasia di Candia', 'Malvasia Nera', 'Malvasia-Viura', 'Mantonico', 'Manzoni', 'Marsanne', 'Marsanne-Roussanne', 'Marsanne-Viognier', 'Marselan', 'Marzemino', 'Mataro', 'Maturana', 'Mauzac', 'Mazuelo', 'Melon', 'Mencía', 'Meritage', 'Merlot', 'Merlot-Cabernet', 'Merlot-Cabernet Franc', 'Merlot-Cabernet Sauvignon', 'Merlot-Grenache', 'Merlot-Malbec', 'Merlot-Tannat', 'Merseguera-Sauvignon Blanc', 'Meseguera', 'Mission', 'Molinara', 'Monastrell', 'Monastrell-Petit Verdot', 'Monastrell-Syrah', 'Mondeuse', 'Monica', 'Montepulciano', 'Morio Muskat', 'Moscatel', 'Moscatel de Alejandría', 'Moscato', 'Moscato Giallo', 'Moscato Rosa', 'Mourvèdre', 'Mourvèdre-Syrah', 'Muscadelle', 'Muscadine', 'Muscat', 'Muscat Blanc', 'Muscat Blanc à Petits Grains', 'Muscat Canelli', \"Muscat d'Alexandrie\", 'Muscat Hamburg', 'Muscat of Alexandria', 'Muskat', 'Müller-Thurgau', 'Nascetta', 'Nasco', 'Nebbiolo', 'Negrette', 'Negroamaro', 'Nerello Cappuccio', 'Nerello Mascalese', \"Nero d'Avola\", 'Nero di Troia', 'Nosiola', 'Nuragus', 'Orange Muscat', 'Pallagrello Bianco', 'Pallagrello Nero', 'Palomino', 'Pansa Blanca', 'Passerina', 'Pecorino', 'Pedro Ximénez', 'Perricone', 'Petit Courbu', 'Petit Manseng', 'Petit Verdot', 'Petite Sirah', 'Petite Verdot', 'Picapoll', 'Picolit', 'Picpoul', 'Piedirosso', 'Pinot Auxerrois', 'Pinot Bianco', 'Pinot Blanc', 'Pinot Blanc-Chardonnay', 'Pinot Blanc-Pinot Noir', 'Pinot Grigio', 'Pinot Gris', 'Pinot Gris-Gewürztraminer', 'Pinot Meunier', 'Pinot Nero', 'Pinot Noir', 'Pinot Noir-Gamay', 'Pinot Noir-Syrah', 'Pinot-Chardonnay', 'Pinotage', 'Port', 'Poulsard', 'Premsal', 'Prieto Picudo', 'Primitivo', 'Prié Blanc', 'Provence red blend', 'Provence white blend', 'Prunelard', 'Raboso', 'Rebo', 'Red Blend', 'Refosco', 'Rhône-style Red Blend', 'Rhône-style White Blend', 'Ribolla Gialla', 'Riesling', 'Rolle', 'Romorantin', 'Rosado', 'Rosato', 'Rosé', 'Roussanne', 'Roussanne-Marsanne', 'Roussanne-Viognier', 'Roviello', 'Ruché', 'Rufete', 'Sacy', 'Sagrantino', 'Sangiovese', 'Sangiovese Cabernet', 'Sangiovese Grosso', 'Sangiovese-Cabernet Sauvignon', 'Sangiovese-Syrah', 'Sauvignon', 'Sauvignon Blanc', 'Sauvignon Blanc-Chardonnay', 'Sauvignon Blanc-Semillon', 'Savagnin', 'Scheurebe', 'Schiava', 'Sciaccerellu', 'Semillon-Chardonnay', 'Semillon-Sauvignon Blanc', 'Sherry', 'Shiraz', 'Shiraz-Cabernet', 'Shiraz-Cabernet Sauvignon', 'Shiraz-Grenache', 'Shiraz-Malbec', 'Shiraz-Mourvèdre', 'Shiraz-Roussanne', 'Shiraz-Tempranillo', 'Shiraz-Viognier', 'Souzao', 'Sparkling Blend', 'Susumaniello', 'Sylvaner', 'Symphony', 'Syrah', 'Syrah-Bonarda', 'Syrah-Cabernet', 'Syrah-Cabernet Sauvignon', 'Syrah-Grenache', 'Syrah-Grenache-Viognier', 'Syrah-Merlot', 'Syrah-Mourvèdre', 'Syrah-Petit Verdot', 'Syrah-Petite Sirah', 'Syrah-Tempranillo', 'Syrah-Viognier', 'Sémillon', 'Tannat', 'Tannat-Cabernet', 'Tannat-Cabernet Franc', 'Tannat-Merlot', 'Tannat-Syrah', 'Tempranillo', 'Tempranillo Blanco', 'Tempranillo Blend', 'Tempranillo-Cabernet Sauvignon', 'Tempranillo-Garnacha', 'Tempranillo-Merlot', 'Tempranillo-Shiraz', 'Tempranillo-Syrah', 'Teroldego', 'Teroldego Rotaliano', 'Timorasso', 'Tinta Amarela', 'Tinta de Toro', 'Tinta del Pais', 'Tinta del Toro', 'Tinta Fina', 'Tinta Madeira', 'Tinto del Pais', 'Tinto Fino', 'Tinto Velasco', 'Tocai', 'Tocai Friulano', 'Tokay', 'Tokay Pinot Gris', 'Torbato', 'Torrontés', 'Touriga Nacional', 'Touriga Nacional Blend', 'Traminer', 'Trebbiano', 'Trebbiano Spoletino', 'Treixadura', 'Trepat', 'Trousseau', 'Turbiana', 'Ugni Blanc', 'Ugni Blanc-Colombard', 'Uva di Troia', 'Uvalino', 'Valdiguié', 'Veltliner', 'Verdeca', 'Verdejo', 'Verdejo-Sauvignon Blanc', 'Verdejo-Viura', 'Verdelho', 'Verdicchio', 'Verduzzo Friulano ', 'Vermentino', 'Vernaccia', 'Vespolina', 'Vidadillo', 'Vidal', 'Vidal Blanc', 'Vignoles', 'Viognier', 'Viognier-Chardonnay', 'Viognier-Gewürztraminer', 'Viognier-Marsanne', 'Viognier-Roussanne', 'Viura', 'Viura-Chardonnay', 'Viura-Verdejo', 'White Blend', 'White Riesling', 'Xarel-lo', 'Zibibbo', 'Zinfandel', 'Zweigelt']\n419\n"
     ]
    }
   ],
   "source": [
    "c = df['variety'].unique()\n",
    "d = sorted(c, key=str.lower)\n",
    "\n",
    "print(d)\n",
    "print(len(d))"
   ]
  },
  {
   "cell_type": "code",
   "execution_count": 404,
   "metadata": {},
   "outputs": [
    {
     "name": "stdout",
     "output_type": "stream",
     "text": [
      "{'Pinot Noir': 3277, 'Tempranillo-Merlot': 4, 'Frappato': 9, 'Pinot Gris': 317, 'Cabernet Sauvignon': 1555, 'Malbec': 856, 'Tempranillo Blend': 294, 'White Blend': 575, 'Merlot': 372, \"Nero d'Avola\": 77, 'Red Blend': 2348, 'Gamay': 290, 'Bordeaux-style White Blend': 116, 'Sangiovese': 468, 'Cabernet Franc': 249, 'Champagne Blend': 540, 'Sauvignon Blanc': 703, 'Bordeaux-style Red Blend': 1050, 'Aglianico': 64, 'Petite Sirah': 155, 'Chardonnay': 2361, 'Petit Manseng': 15, 'Rosé': 805, 'Zinfandel': 597, 'Vernaccia': 16, 'Meritage': 33, 'Viognier': 190, 'Vermentino': 43, 'Grenache Blanc': 30, 'Syrah': 950, 'Shiraz-Cabernet Sauvignon': 12, 'Rhône-style Red Blend': 520, 'Graciano': 14, 'Riesling': 612, 'Tannat-Cabernet': 10, 'G-S-M': 63, 'Verdejo': 67, 'Pinot Bianco': 25, 'Grenache': 189, 'Carignan-Grenache': 5, 'Savagnin': 5, 'Shiraz': 202, 'Sparkling Blend': 696, 'Muscat': 31, 'Muscadelle': 6, 'Shiraz-Viognier': 13, 'Nebbiolo': 657, 'Pinot Grigio': 94, 'Gewürztraminer': 234, 'Tempranillo': 690, 'Cortese': 14, 'Mencía': 59, 'Nerello Mascalese': 44, 'Melon': 112, 'Rhône-style White Blend': 150, 'Vidal': 4, 'Pinot Blanc': 68, 'Verdelho': 10, 'Marsanne': 21, 'Kerner': 11, 'Syrah-Grenache': 18, 'Grüner Veltliner': 25, 'Viura': 38, 'Alsace white blend': 25, 'Dolcetto': 15, 'Barbera': 135, 'Garnacha Tintorera': 5, 'Pinot Nero': 46, 'Torrontés': 83, 'Verdejo-Viura': 8, 'Verdicchio': 46, 'Chenin Blanc': 128, 'Carricante': 13, 'Sylvaner': 15, 'Fiano': 31, 'Cinsault': 11, 'Muscat Blanc à Petits Grains': 2, 'Monastrell': 61, 'Petit Verdot': 51, 'Xarel-lo': 11, 'Greco': 21, 'Grillo': 21, 'Insolia': 4, 'Rosato': 20, 'Tannat-Syrah': 3, 'Marsanne-Roussanne': 4, 'Prié Blanc': 4, 'Sherry': 48, 'Garnacha': 114, 'Syrah-Cabernet': 1, 'Pinot Meunier': 11, 'Sauvignon': 54, 'Cabernet Sauvignon-Sangiovese': 3, 'Teroldego': 10, 'Tannat': 31, 'Pansa Blanca': 2, 'Albariño': 97, 'Sauvignon Blanc-Semillon': 21, 'Claret': 4, 'Montepulciano': 33, 'Moscatel': 23, 'Rosado': 18, 'Viura-Chardonnay': 1, 'Syrah-Viognier': 4, 'Cabernet Sauvignon-Merlot': 16, 'Malbec-Merlot': 21, 'Inzolia': 5, 'Moscato': 40, 'Turbiana': 63, 'Monastrell-Syrah': 7, 'Garganega': 55, 'Tinta de Toro': 66, 'Lambrusco di Sorbara': 13, 'Cesanese': 2, 'Sémillon': 24, 'Lagrein': 21, 'Tinta Fina': 7, 'Marsanne-Viognier': 1, 'Touriga Nacional': 6, 'Syrah-Cabernet Sauvignon': 9, 'Gewürztraminer-Riesling': 2, 'Semillon-Sauvignon Blanc': 10, 'Cabernet Franc-Cabernet Sauvignon': 6, 'Cabernet Merlot': 2, 'Roussanne': 28, 'Cabernet Blend': 17, 'Maturana': 3, 'Primitivo': 49, 'Gamay Noir': 4, 'Bonarda': 30, 'Glera': 159, 'Albanello': 1, 'Chenin Blanc-Chardonnay': 8, 'Friulano': 6, 'Falanghina': 11, 'Lemberger': 5, 'Mourvèdre': 72, 'Provence red blend': 21, 'Mondeuse': 5, 'Colombard': 6, 'Pedro Ximénez': 14, 'Carmenère': 14, 'Provence white blend': 9, 'Albana': 6, 'Muskat': 1, 'Cabernet Sauvignon-Malbec': 8, 'Malbec-Cabernet Sauvignon': 23, 'Fumé Blanc': 8, 'Carignano': 5, 'Cabernet Franc-Merlot': 3, 'Torbato': 1, 'Garnacha Blanca': 16, 'Cabernet Sauvignon-Syrah': 20, 'Pecorino': 6, 'Aleatico': 2, 'Carcajolu': 1, 'Tinto Fino': 33, 'Vidal Blanc': 10, 'Palomino': 9, 'Nascetta': 2, 'Grenache-Syrah': 13, 'Cannonau': 10, 'Lambrusco Grasparossa': 8, 'Marselan': 1, 'Malbec-Syrah': 7, 'Schiava': 12, 'Chardonnay-Semillon': 4, 'Merlot-Malbec': 1, 'Alicante Bouschet': 4, 'Tempranillo-Cabernet Sauvignon': 27, 'Cabernet Sauvignon-Tempranillo': 6, 'Cabernet-Syrah': 3, 'Sauvignon Blanc-Chardonnay': 2, 'Edelzwicker': 1, 'Grenache Noir': 1, 'Charbono': 4, 'Arneis': 20, 'Syrah-Mourvèdre': 4, 'Ribolla Gialla': 8, 'Trebbiano': 4, 'Gros and Petit Manseng': 16, 'Jacquère': 12, 'Mourvèdre-Syrah': 1, 'Negrette': 8, 'Clairette': 1, 'Sagrantino': 28, 'Tinto del Pais': 8, 'Mauzac': 4, 'Passerina': 3, 'Uva di Troia': 2, 'Negroamaro': 12, 'Lambrusco': 7, 'Marzemino': 1, 'Cabernet Sauvignon-Shiraz': 6, 'Scheurebe': 1, 'Muscat Canelli': 7, 'Freisa': 1, 'Auxerrois': 9, 'Pinot Noir-Gamay': 8, 'Nero di Troia': 4, 'Merlot-Tannat': 1, 'Grenache Blend': 3, 'Zibibbo': 6, 'Gros Manseng': 6, 'Merlot-Cabernet Sauvignon': 8, 'Shiraz-Grenache': 5, 'Aligoté': 7, 'Sangiovese Cabernet': 2, 'Viognier-Roussanne': 2, 'Pallagrello Bianco': 3, 'Bobal': 6, 'Picpoul': 5, 'Port': 14, 'Barbera-Nebbiolo': 1, 'Prieto Picudo': 3, 'Tokay': 2, 'Piedirosso': 2, 'Merlot-Cabernet Franc': 2, 'Chardonnay-Sauvignon': 1, 'Ugni Blanc-Colombard': 4, 'Orange Muscat': 3, 'Müller-Thurgau': 4, 'Pinotage': 2, 'Durella': 4, 'Macabeo': 8, 'Mazuelo': 1, 'Carignan': 7, 'Catarratto': 6, 'Godello': 14, 'Tinta del Pais': 1, 'Corvina': 4, 'Malvasia': 5, 'Valdiguié': 2, 'Petite Verdot': 4, 'Roussanne-Viognier': 3, 'Cabernet': 5, 'Verduzzo Friulano ': 1, 'Treixadura': 1, 'Chasselas': 4, 'Duras': 5, \"Loin de l'Oeil\": 3, 'Black Muscat': 2, 'Coda di Volpe': 2, 'Chardonnay-Sauvignon Blanc': 1, 'Malbec-Tannat': 4, 'Grenache-Mourvèdre': 3, 'Viura-Verdejo': 1, 'Touriga Nacional Blend': 1, 'Pinot-Chardonnay': 3, 'Merlot-Cabernet': 4, 'Tocai': 1, \"Muscat d'Alexandrie\": 1, 'Tinta del Toro': 1, 'Viognier-Gewürztraminer': 1, 'Prunelard': 1, 'Trepat': 5, 'Malbec-Petit Verdot': 1, 'Sangiovese-Cabernet Sauvignon': 2, 'Sacy': 1, 'Rufete': 2, 'Syrah-Petite Sirah': 5, 'Tempranillo-Shiraz': 4, 'Carignane': 11, 'Pinot Auxerrois': 5, 'Ugni Blanc': 1, 'Semillon-Chardonnay': 1, 'Poulsard': 2, 'Grenache-Shiraz': 2, 'Monica': 1, 'Tempranillo-Garnacha': 10, 'Carineña': 2, 'Cabernet Sauvignon-Cabernet Franc': 5, 'Sangiovese Grosso': 1, 'Sciaccerellu': 2, 'Veltliner': 1, 'Picolit': 1, 'Garnacha-Syrah': 2, 'Grenache-Carignan': 5, 'Malbec-Cabernet': 2, 'Madeleine Angevine': 2, 'Alvarelhão': 1, 'Viognier-Chardonnay': 2, 'Pinot Blanc-Pinot Noir': 1, 'Muscat Hamburg': 2, 'Tempranillo Blanco': 3, 'Pinot Gris-Gewürztraminer': 1, 'Refosco': 3, 'Chardonnay-Viognier': 3, 'Tinto Velasco': 1, 'Nuragus': 1, 'Baco Noir': 1, 'Roussanne-Marsanne': 1, 'Cabernet Sauvignon-Merlot-Shiraz': 2, 'Incrocio Manzoni': 2, 'Blaufränkisch': 3, 'Doña Blanca': 1, 'Lambrusco Salamino': 1, 'Sangiovese-Syrah': 1, 'Tannat-Cabernet Franc': 2, 'Fer Servadou': 2, 'Mission': 3, 'Colombard-Sauvignon Blanc': 6, 'Syrah-Merlot': 2, 'Tannat-Merlot': 2, 'Romorantin': 1, 'Verdejo-Sauvignon Blanc': 1, 'Braucol': 2, 'Malvasia-Viura': 2, 'Tocai Friulano': 2, 'Cabernet Franc-Malbec': 1, 'Malvasia Bianca': 3, 'Pallagrello Nero': 3, 'Mantonico': 1, 'Vespolina': 1, 'Shiraz-Malbec': 1, 'Symphony': 1, 'Macabeo-Chardonnay': 1, 'Muscat Blanc': 2, 'Grecanico': 2, 'Shiraz-Cabernet': 1, 'Trousseau': 1, 'Malbec-Cabernet Franc': 2, 'Macabeo-Moscatel': 1, 'Cariñena-Garnacha': 2, 'Timorasso': 2, 'Nosiola': 1, 'Hondarrabi Zuri': 1, 'Malvasia di Candia': 1, 'Molinara': 1, 'Malvar': 1, 'Airen': 1, 'Johannisberg Riesling': 1, 'Erbaluce': 1, 'Muscat of Alexandria': 1, 'Syrah-Tempranillo': 3, 'Abouriou': 1, 'Pinot Noir-Syrah': 1, 'Malbec-Bonarda': 3, 'Nerello Cappuccio': 1, 'Syrah-Petit Verdot': 1, 'Garnacha-Monastrell': 2, 'Greco Bianco': 1, 'Souzao': 1, 'Moscatel de Alejandría': 1, 'White Riesling': 1, 'Rolle': 3, 'Counoise': 2, 'Zweigelt': 3, 'Muscadine': 1, 'Manzoni': 1, 'Ciliegiolo': 1, 'Altesse': 1, 'Syrah-Grenache-Viognier': 1, 'Shiraz-Roussanne': 1, 'Cabernet-Shiraz': 1, 'Grolleau': 1, 'Mataro': 1, 'Pinot Blanc-Chardonnay': 1, 'Carignan-Syrah': 1, 'Vignoles': 1, 'Vidadillo': 1, 'Malvasia Nera': 2, 'Dornfelder': 2, 'Malbec Blend': 2, 'Canaiolo': 2, 'Ruché': 2, 'Moscato Giallo': 2, 'Colombard-Ugni Blanc': 2, 'Jaen': 1, 'Viognier-Marsanne': 1, 'Meseguera': 1, 'Teroldego Rotaliano': 1, 'Gaglioppo': 5, 'Garnacha-Tempranillo': 5, 'Traminer': 2, 'Trebbiano Spoletino': 1, 'Merlot-Grenache': 1, 'Chambourcin': 2, 'Tempranillo-Syrah': 2, 'Uvalino': 2, 'Merseguera-Sauvignon Blanc': 1, 'Raboso': 1, 'Cabernet-Malbec': 1, 'Bovale': 2, 'Cayuga': 1, 'Tinta Amarela': 1, 'Moscato Rosa': 2, 'Morio Muskat': 1, 'Syrah-Bonarda': 1, 'Durif': 2, 'Rebo': 1, 'Roviello': 1, 'Malbec-Tempranillo': 2, 'Nasco': 2, 'Grechetto': 1, 'Monastrell-Petit Verdot': 1, 'Magliocco': 1, 'Apple': 2, 'Perricone': 2, 'Garnacha Blend': 1, 'Shiraz-Tempranillo': 1, 'Premsal': 1, 'Tokay Pinot Gris': 1, 'Picapoll': 1, 'Tinta Madeira': 1, 'Centesimino': 1, 'Catalanesca': 1, 'Garnacha-Cabernet': 1, 'Garnacha-Cariñena': 1, 'Alicante': 1, 'Shiraz-Mourvèdre': 2, 'Favorita': 1, 'Petit Courbu': 1, 'Francisa': 1, 'Chardonnay-Pinot Blanc': 1, 'Caprettone': 1, 'Verdeca': 1, 'Susumaniello': 1, 'Bobal-Cabernet Sauvignon': 1}\n"
     ]
    }
   ],
   "source": [
    "count = {}\n",
    "for word in a:\n",
    "    for unique_word in c:\n",
    "        if unique_word is word:\n",
    "            if unique_word in count:\n",
    "                count[word] += 1\n",
    "            else:\n",
    "                count[word] = 1\n",
    "print(count)"
   ]
  },
  {
   "cell_type": "code",
   "execution_count": 405,
   "metadata": {},
   "outputs": [
    {
     "name": "stdout",
     "output_type": "stream",
     "text": [
      "[('Syrah-Cabernet', 1), ('Viura-Chardonnay', 1), ('Marsanne-Viognier', 1), ('Albanello', 1), ('Muskat', 1), ('Torbato', 1), ('Carcajolu', 1), ('Marselan', 1), ('Merlot-Malbec', 1), ('Edelzwicker', 1), ('Grenache Noir', 1), ('Mourvèdre-Syrah', 1), ('Clairette', 1), ('Marzemino', 1), ('Scheurebe', 1), ('Freisa', 1), ('Merlot-Tannat', 1), ('Barbera-Nebbiolo', 1), ('Chardonnay-Sauvignon', 1), ('Mazuelo', 1), ('Tinta del Pais', 1), ('Verduzzo Friulano ', 1), ('Treixadura', 1), ('Chardonnay-Sauvignon Blanc', 1), ('Viura-Verdejo', 1), ('Touriga Nacional Blend', 1), ('Tocai', 1), (\"Muscat d'Alexandrie\", 1), ('Tinta del Toro', 1), ('Viognier-Gewürztraminer', 1), ('Prunelard', 1), ('Malbec-Petit Verdot', 1), ('Sacy', 1), ('Ugni Blanc', 1), ('Semillon-Chardonnay', 1), ('Monica', 1), ('Sangiovese Grosso', 1), ('Veltliner', 1), ('Picolit', 1), ('Alvarelhão', 1), ('Pinot Blanc-Pinot Noir', 1), ('Pinot Gris-Gewürztraminer', 1), ('Tinto Velasco', 1), ('Nuragus', 1), ('Baco Noir', 1), ('Roussanne-Marsanne', 1), ('Doña Blanca', 1), ('Lambrusco Salamino', 1), ('Sangiovese-Syrah', 1), ('Romorantin', 1), ('Verdejo-Sauvignon Blanc', 1), ('Cabernet Franc-Malbec', 1), ('Mantonico', 1), ('Vespolina', 1), ('Shiraz-Malbec', 1), ('Symphony', 1), ('Macabeo-Chardonnay', 1), ('Shiraz-Cabernet', 1), ('Trousseau', 1), ('Macabeo-Moscatel', 1), ('Nosiola', 1), ('Hondarrabi Zuri', 1), ('Malvasia di Candia', 1), ('Molinara', 1), ('Malvar', 1), ('Airen', 1), ('Johannisberg Riesling', 1), ('Erbaluce', 1), ('Muscat of Alexandria', 1), ('Abouriou', 1), ('Pinot Noir-Syrah', 1), ('Nerello Cappuccio', 1), ('Syrah-Petit Verdot', 1), ('Greco Bianco', 1), ('Souzao', 1), ('Moscatel de Alejandría', 1), ('White Riesling', 1), ('Muscadine', 1), ('Manzoni', 1), ('Ciliegiolo', 1), ('Altesse', 1), ('Syrah-Grenache-Viognier', 1), ('Shiraz-Roussanne', 1), ('Cabernet-Shiraz', 1), ('Grolleau', 1), ('Mataro', 1), ('Pinot Blanc-Chardonnay', 1), ('Carignan-Syrah', 1), ('Vignoles', 1), ('Vidadillo', 1), ('Jaen', 1), ('Viognier-Marsanne', 1), ('Meseguera', 1), ('Teroldego Rotaliano', 1), ('Trebbiano Spoletino', 1), ('Merlot-Grenache', 1), ('Merseguera-Sauvignon Blanc', 1), ('Raboso', 1), ('Cabernet-Malbec', 1), ('Cayuga', 1), ('Tinta Amarela', 1), ('Morio Muskat', 1), ('Syrah-Bonarda', 1), ('Rebo', 1), ('Roviello', 1), ('Grechetto', 1), ('Monastrell-Petit Verdot', 1), ('Magliocco', 1), ('Garnacha Blend', 1), ('Shiraz-Tempranillo', 1), ('Premsal', 1), ('Tokay Pinot Gris', 1), ('Picapoll', 1), ('Tinta Madeira', 1), ('Centesimino', 1), ('Catalanesca', 1), ('Garnacha-Cabernet', 1), ('Garnacha-Cariñena', 1), ('Alicante', 1), ('Favorita', 1), ('Petit Courbu', 1), ('Francisa', 1), ('Chardonnay-Pinot Blanc', 1), ('Caprettone', 1), ('Verdeca', 1), ('Susumaniello', 1), ('Bobal-Cabernet Sauvignon', 1), ('Muscat Blanc à Petits Grains', 2), ('Pansa Blanca', 2), ('Cesanese', 2), ('Gewürztraminer-Riesling', 2), ('Cabernet Merlot', 2), ('Aleatico', 2), ('Nascetta', 2), ('Sauvignon Blanc-Chardonnay', 2), ('Uva di Troia', 2), ('Sangiovese Cabernet', 2), ('Viognier-Roussanne', 2), ('Tokay', 2), ('Piedirosso', 2), ('Merlot-Cabernet Franc', 2), ('Pinotage', 2), ('Valdiguié', 2), ('Black Muscat', 2), ('Coda di Volpe', 2), ('Sangiovese-Cabernet Sauvignon', 2), ('Rufete', 2), ('Poulsard', 2), ('Grenache-Shiraz', 2), ('Carineña', 2), ('Sciaccerellu', 2), ('Garnacha-Syrah', 2), ('Malbec-Cabernet', 2), ('Madeleine Angevine', 2), ('Viognier-Chardonnay', 2), ('Muscat Hamburg', 2), ('Cabernet Sauvignon-Merlot-Shiraz', 2), ('Incrocio Manzoni', 2), ('Tannat-Cabernet Franc', 2), ('Fer Servadou', 2), ('Syrah-Merlot', 2), ('Tannat-Merlot', 2), ('Braucol', 2), ('Malvasia-Viura', 2), ('Tocai Friulano', 2), ('Muscat Blanc', 2), ('Grecanico', 2), ('Malbec-Cabernet Franc', 2), ('Cariñena-Garnacha', 2), ('Timorasso', 2), ('Garnacha-Monastrell', 2), ('Counoise', 2), ('Malvasia Nera', 2), ('Dornfelder', 2), ('Malbec Blend', 2), ('Canaiolo', 2), ('Ruché', 2), ('Moscato Giallo', 2), ('Colombard-Ugni Blanc', 2), ('Traminer', 2), ('Chambourcin', 2), ('Tempranillo-Syrah', 2), ('Uvalino', 2), ('Bovale', 2), ('Moscato Rosa', 2), ('Durif', 2), ('Malbec-Tempranillo', 2), ('Nasco', 2), ('Apple', 2), ('Perricone', 2), ('Shiraz-Mourvèdre', 2), ('Tannat-Syrah', 3), ('Cabernet Sauvignon-Sangiovese', 3), ('Maturana', 3), ('Cabernet Franc-Merlot', 3), ('Cabernet-Syrah', 3), ('Passerina', 3), ('Grenache Blend', 3), ('Pallagrello Bianco', 3), ('Prieto Picudo', 3), ('Orange Muscat', 3), ('Roussanne-Viognier', 3), (\"Loin de l'Oeil\", 3), ('Grenache-Mourvèdre', 3), ('Pinot-Chardonnay', 3), ('Tempranillo Blanco', 3), ('Refosco', 3), ('Chardonnay-Viognier', 3), ('Blaufränkisch', 3), ('Mission', 3), ('Malvasia Bianca', 3), ('Pallagrello Nero', 3), ('Syrah-Tempranillo', 3), ('Malbec-Bonarda', 3), ('Rolle', 3), ('Zweigelt', 3), ('Tempranillo-Merlot', 4), ('Vidal', 4), ('Insolia', 4), ('Marsanne-Roussanne', 4), ('Prié Blanc', 4), ('Claret', 4), ('Syrah-Viognier', 4), ('Gamay Noir', 4), ('Chardonnay-Semillon', 4), ('Alicante Bouschet', 4), ('Charbono', 4), ('Syrah-Mourvèdre', 4), ('Trebbiano', 4), ('Mauzac', 4), ('Nero di Troia', 4), ('Ugni Blanc-Colombard', 4), ('Müller-Thurgau', 4), ('Durella', 4), ('Corvina', 4), ('Petite Verdot', 4), ('Chasselas', 4), ('Malbec-Tannat', 4), ('Merlot-Cabernet', 4), ('Tempranillo-Shiraz', 4), ('Carignan-Grenache', 5), ('Savagnin', 5), ('Garnacha Tintorera', 5), ('Inzolia', 5), ('Lemberger', 5), ('Mondeuse', 5), ('Carignano', 5), ('Shiraz-Grenache', 5), ('Picpoul', 5), ('Malvasia', 5), ('Cabernet', 5), ('Duras', 5), ('Trepat', 5), ('Syrah-Petite Sirah', 5), ('Pinot Auxerrois', 5), ('Cabernet Sauvignon-Cabernet Franc', 5), ('Grenache-Carignan', 5), ('Gaglioppo', 5), ('Garnacha-Tempranillo', 5), ('Muscadelle', 6), ('Touriga Nacional', 6), ('Cabernet Franc-Cabernet Sauvignon', 6), ('Friulano', 6), ('Colombard', 6), ('Albana', 6), ('Pecorino', 6), ('Cabernet Sauvignon-Tempranillo', 6), ('Cabernet Sauvignon-Shiraz', 6), ('Zibibbo', 6), ('Gros Manseng', 6), ('Bobal', 6), ('Catarratto', 6), ('Colombard-Sauvignon Blanc', 6), ('Monastrell-Syrah', 7), ('Tinta Fina', 7), ('Malbec-Syrah', 7), ('Lambrusco', 7), ('Muscat Canelli', 7), ('Aligoté', 7), ('Carignan', 7), ('Verdejo-Viura', 8), ('Chenin Blanc-Chardonnay', 8), ('Cabernet Sauvignon-Malbec', 8), ('Fumé Blanc', 8), ('Lambrusco Grasparossa', 8), ('Ribolla Gialla', 8), ('Negrette', 8), ('Tinto del Pais', 8), ('Pinot Noir-Gamay', 8), ('Merlot-Cabernet Sauvignon', 8), ('Macabeo', 8), ('Frappato', 9), ('Syrah-Cabernet Sauvignon', 9), ('Provence white blend', 9), ('Palomino', 9), ('Auxerrois', 9), ('Tannat-Cabernet', 10), ('Verdelho', 10), ('Teroldego', 10), ('Semillon-Sauvignon Blanc', 10), ('Vidal Blanc', 10), ('Cannonau', 10), ('Tempranillo-Garnacha', 10), ('Kerner', 11), ('Cinsault', 11), ('Xarel-lo', 11), ('Pinot Meunier', 11), ('Falanghina', 11), ('Carignane', 11), ('Shiraz-Cabernet Sauvignon', 12), ('Schiava', 12), ('Jacquère', 12), ('Negroamaro', 12), ('Shiraz-Viognier', 13), ('Carricante', 13), ('Lambrusco di Sorbara', 13), ('Grenache-Syrah', 13), ('Graciano', 14), ('Cortese', 14), ('Pedro Ximénez', 14), ('Carmenère', 14), ('Port', 14), ('Godello', 14), ('Petit Manseng', 15), ('Dolcetto', 15), ('Sylvaner', 15), ('Vernaccia', 16), ('Cabernet Sauvignon-Merlot', 16), ('Garnacha Blanca', 16), ('Gros and Petit Manseng', 16), ('Cabernet Blend', 17), ('Syrah-Grenache', 18), ('Rosado', 18), ('Rosato', 20), ('Cabernet Sauvignon-Syrah', 20), ('Arneis', 20), ('Marsanne', 21), ('Greco', 21), ('Grillo', 21), ('Sauvignon Blanc-Semillon', 21), ('Malbec-Merlot', 21), ('Lagrein', 21), ('Provence red blend', 21), ('Moscatel', 23), ('Malbec-Cabernet Sauvignon', 23), ('Sémillon', 24), ('Pinot Bianco', 25), ('Grüner Veltliner', 25), ('Alsace white blend', 25), ('Tempranillo-Cabernet Sauvignon', 27), ('Roussanne', 28), ('Sagrantino', 28), ('Grenache Blanc', 30), ('Bonarda', 30), ('Muscat', 31), ('Fiano', 31), ('Tannat', 31), ('Meritage', 33), ('Montepulciano', 33), ('Tinto Fino', 33), ('Viura', 38), ('Moscato', 40), ('Vermentino', 43), ('Nerello Mascalese', 44), ('Pinot Nero', 46), ('Verdicchio', 46), ('Sherry', 48), ('Primitivo', 49), ('Petit Verdot', 51), ('Sauvignon', 54), ('Garganega', 55), ('Mencía', 59), ('Monastrell', 61), ('G-S-M', 63), ('Turbiana', 63), ('Aglianico', 64), ('Tinta de Toro', 66), ('Verdejo', 67), ('Pinot Blanc', 68), ('Mourvèdre', 72), (\"Nero d'Avola\", 77), ('Torrontés', 83), ('Pinot Grigio', 94), ('Albariño', 97), ('Melon', 112), ('Garnacha', 114), ('Bordeaux-style White Blend', 116), ('Chenin Blanc', 128), ('Barbera', 135), ('Rhône-style White Blend', 150), ('Petite Sirah', 155), ('Glera', 159), ('Grenache', 189), ('Viognier', 190), ('Shiraz', 202), ('Gewürztraminer', 234), ('Cabernet Franc', 249), ('Gamay', 290), ('Tempranillo Blend', 294), ('Pinot Gris', 317), ('Merlot', 372), ('Sangiovese', 468), ('Rhône-style Red Blend', 520), ('Champagne Blend', 540), ('White Blend', 575), ('Zinfandel', 597), ('Riesling', 612), ('Nebbiolo', 657), ('Tempranillo', 690), ('Sparkling Blend', 696), ('Sauvignon Blanc', 703), ('Rosé', 805), ('Malbec', 856), ('Syrah', 950), ('Bordeaux-style Red Blend', 1050), ('Cabernet Sauvignon', 1555), ('Red Blend', 2348), ('Chardonnay', 2361), ('Pinot Noir', 3277)]\n"
     ]
    }
   ],
   "source": [
    "e = sorted(count.items(), key=lambda x: x[1])\n",
    "print(e)\n"
   ]
  },
  {
   "cell_type": "code",
   "execution_count": 437,
   "metadata": {},
   "outputs": [
    {
     "name": "stdout",
     "output_type": "stream",
     "text": [
      "                                           description     variety\n4    Much like the regular bottling from 2012, this...  Pinot Noir\n25   Oak and earth intermingle around robust aromas...  Pinot Noir\n35   As with many of the Erath 2010 vineyard design...  Pinot Noir\n78   Some rosés are made simply by bleeding the jui...  Pinot Noir\n145  Cooked cranberry is spiced with anise, pepperc...  Pinot Noir\n"
     ]
    }
   ],
   "source": [
    "g = df[(df['variety'].str.startswith('Pinot Noir'))]\n",
    "del g['winery']\n",
    "del g['taster_twitter_handle']\n",
    "del g['taster_name']\n",
    "del g['region_1']\n",
    "del g['region_2']\n",
    "del g['province']\n",
    "del g['designation']\n",
    "del g['title']\n",
    "del g['country']\n",
    "del g['points']\n",
    "del g['age']\n",
    "del g['price']\n",
    "print(g.head())\n",
    "writer = pd.ExcelWriter('pinot_noir.xlsx')\n",
    "g.to_excel(writer,'Sheet1')\n",
    "writer.save()"
   ]
  },
  {
   "cell_type": "code",
   "execution_count": 436,
   "metadata": {},
   "outputs": [
    {
     "name": "stdout",
     "output_type": "stream",
     "text": [
      "                                           description    variety\n28   Aromas suggest mature berry, scorched earth, a...  Red Blend\n90   This blend of Sangiovese, Malbec, Cabernet Sau...  Red Blend\n104  Made with 65% Sangiovese, 20% Merlot and 15% C...  Red Blend\n106  A blend of Cabernet Sauvignon, Merlot, Caberne...  Red Blend\n109  An easy-drinking blend of Merlot, Sangiovese a...  Red Blend\n"
     ]
    }
   ],
   "source": [
    "h = df[(df['variety'].str.startswith('Red Blend'))]\n",
    "del h['winery']\n",
    "del h['taster_twitter_handle']\n",
    "del h['taster_name']\n",
    "del h['region_1']\n",
    "del h['region_2']\n",
    "del h['province']\n",
    "del h['designation']\n",
    "del h['title']\n",
    "del h['country']\n",
    "del h['points']\n",
    "del h['age']\n",
    "del h['price']\n",
    "print(h.head())\n",
    "writer = pd.ExcelWriter('red_blend.xlsx')\n",
    "h.to_excel(writer,'Sheet1')\n",
    "writer.save()"
   ]
  },
  {
   "cell_type": "code",
   "execution_count": 435,
   "metadata": {},
   "outputs": [
    {
     "name": "stdout",
     "output_type": "stream",
     "text": [
      "                                           description     variety\n77   This medium-bodied Chardonnay features aromas ...  Chardonnay\n179  The impact of 50-year old vines is seen in the...  Chardonnay\n205  Rich honeysuckle, marzipan and oak aromas meet...  Chardonnay\n245  Not exactly a world-class white wine but at le...  Chardonnay\n301  A good, clean, tart and lightly spicy all-stai...  Chardonnay\n"
     ]
    }
   ],
   "source": [
    "i = df[(df['variety'].str.startswith('Chardonnay'))]\n",
    "del i['winery']\n",
    "del i['taster_twitter_handle']\n",
    "del i['taster_name']\n",
    "del i['region_1']\n",
    "del i['region_2']\n",
    "del i['province']\n",
    "del i['designation']\n",
    "del i['title']\n",
    "del i['country']\n",
    "del i['points']\n",
    "del i['age']\n",
    "del i['price']\n",
    "print(i.head())\n",
    "writer = pd.ExcelWriter('chardonnay.xlsx')\n",
    "i.to_excel(writer,'Sheet1')\n",
    "writer.save()"
   ]
  },
  {
   "cell_type": "code",
   "execution_count": 434,
   "metadata": {},
   "outputs": [
    {
     "name": "stdout",
     "output_type": "stream",
     "text": [
      "                                           description             variety\n10   Soft, supple plum envelopes an oaky structure ...  Cabernet Sauvignon\n60   Syrupy and dense, this wine is jammy in plum a...  Cabernet Sauvignon\n71   Big oak defines this robustly dense and extrac...  Cabernet Sauvignon\n73   Juicy plum, raspberry and pencil lead lead the...  Cabernet Sauvignon\n111  This 100% varietal wine opens in a heady aroma...  Cabernet Sauvignon\n"
     ]
    }
   ],
   "source": [
    "import openpyxl\n",
    "j = df[(df['variety'].str.startswith('Cabernet Sauvignon'))]\n",
    "del j['winery']\n",
    "del j['taster_twitter_handle']\n",
    "del j['taster_name']\n",
    "del j['region_1']\n",
    "del j['region_2']\n",
    "del j['province']\n",
    "del j['designation']\n",
    "del j['title']\n",
    "del j['country']\n",
    "del j['points']\n",
    "del j['age']\n",
    "del j['price']\n",
    "print(j.head())\n",
    "writer = pd.ExcelWriter('cabernet_sauvignon.xlsx')\n",
    "j.to_excel(writer,'Sheet1')\n",
    "writer.save()"
   ]
  },
  {
   "cell_type": "code",
   "execution_count": 430,
   "metadata": {},
   "outputs": [
    {
     "name": "stdout",
     "output_type": "stream",
     "text": [
      "                                              description             variety\n129731  This 100% varietal wine brings nuanced aromas ...  Cabernet Sauvignon\n129739  Blackberry juice mixes with graphite, cedar an...  Cabernet Sauvignon\n129756  In the blend are smaller percentages of Cab Fr...  Cabernet Sauvignon\n129891  Chocolate, mocha and coconut notes highlight t...  Cabernet Sauvignon\n129913  This is taut and dense, and requires time and ...  Cabernet Sauvignon\n"
     ]
    }
   ],
   "source": [
    "frames = [g, h, i, j]\n",
    "\n",
    "result = pd.concat(frames)\n",
    "print(result.tail())"
   ]
  },
  {
   "cell_type": "code",
   "execution_count": 438,
   "metadata": {},
   "outputs": [
    {
     "name": "stdout",
     "output_type": "stream",
     "text": [
      "Train/Dev split: 303338/1000\ntrain shape: (303338, 23)\ndev shape: (1000, 23)\nvocab_size 6994\nsentence max words 23\n"
     ]
    }
   ],
   "source": [
    "from __future__ import print_function\n",
    "\n",
    "from collections import Counter\n",
    "import itertools\n",
    "import numpy as np\n",
    "import re\n",
    "\n",
    "try:\n",
    "    # For Python 3.0 and later\n",
    "    from urllib.request import urlopen\n",
    "except ImportError:\n",
    "    # Fall back to Python 2's urllib2\n",
    "    from urllib2 import urlopen\n",
    "    \n",
    "def clean_str(string):\n",
    "    \"\"\"\n",
    "    Tokenization/string cleaning.\n",
    "    Original from https://github.com/yoonkim/CNN_sentence/blob/master/process_data.py\n",
    "    \"\"\"\n",
    "    string = re.sub(r\"[^A-Za-z0-9(),!?\\'\\`]\", \" \", string)\n",
    "    string = re.sub(r\"\\'s\", \" \\'s\", string)\n",
    "    string = re.sub(r\"\\'ve\", \" \\'ve\", string)\n",
    "    string = re.sub(r\"n\\'t\", \" n\\'t\", string)\n",
    "    string = re.sub(r\"\\'re\", \" \\'re\", string)\n",
    "    string = re.sub(r\"\\'d\", \" \\'d\", string)\n",
    "    string = re.sub(r\"\\'ll\", \" \\'ll\", string)\n",
    "    string = re.sub(r\",\", \" , \", string)\n",
    "    string = re.sub(r\"!\", \" ! \", string)\n",
    "    string = re.sub(r\"\\(\", \" \\( \", string)\n",
    "    string = re.sub(r\"\\)\", \" \\) \", string)\n",
    "    string = re.sub(r\"\\?\", \" \\? \", string)\n",
    "    string = re.sub(r\"\\s{2,}\", \" \", string)\n",
    "    \n",
    "    return string.strip().lower()\n",
    "\n",
    "def download_sentences(url):\n",
    "    \"\"\"\n",
    "    Download sentences from specified URL. \n",
    "    \n",
    "    Strip trailing newline, convert to Unicode.\n",
    "    \"\"\"\n",
    "    \n",
    "    remote_file = urlopen(url)\n",
    "    return [line.decode('Latin1').strip() for line in remote_file.readlines()]\n",
    "    \n",
    "def load_data_and_labels():\n",
    "    \"\"\"\n",
    "    Loads polarity data from files, splits the data into words and generates labels.\n",
    "    Returns split sentences and labels.\n",
    "    \"\"\"\n",
    "    positive_examples = download_sentences('file:///C:/Users/Caitlynne/Desktop/Spring%202018%20Classes/Computational%20Methods%20for%20Data%20Analytics/HW/python/Winery/pinot_noir.xlsx.htm')\n",
    "    negative_examples = download_sentences('file:///C:/Users/Caitlynne/Desktop/Spring%202018%20Classes/Computational%20Methods%20for%20Data%20Analytics/HW/python/Winery/chardonnay.xlsx.htm')\n",
    "    \n",
    "    # Tokenize\n",
    "    x_text = positive_examples + negative_examples\n",
    "    x_text = [clean_str(sent).split(\" \") for sent in x_text]\n",
    "\n",
    "    # Generate labels\n",
    "    positive_labels = [1 for _ in positive_examples]\n",
    "    negative_labels = [0 for _ in negative_examples]\n",
    "    y = np.concatenate([positive_labels, negative_labels], 0)\n",
    "    return x_text, y\n",
    "\n",
    "\n",
    "def pad_sentences(sentences, padding_word=\"\"):\n",
    "    \"\"\"\n",
    "    Pads all sentences to be the length of the longest sentence.\n",
    "    Returns padded sentences.\n",
    "    \"\"\"\n",
    "    sequence_length = max(len(x) for x in sentences)\n",
    "    padded_sentences = []\n",
    "    for i in range(len(sentences)):\n",
    "        sentence = sentences[i]\n",
    "        num_padding = sequence_length - len(sentence)\n",
    "        new_sentence = sentence + [padding_word] * num_padding\n",
    "        padded_sentences.append(new_sentence)\n",
    "        \n",
    "    return padded_sentences\n",
    "\n",
    "def build_vocab(sentences):\n",
    "    \"\"\"\n",
    "    Builds a vocabulary mapping from token to index based on the sentences.\n",
    "    Returns vocabulary mapping and inverse vocabulary mapping.\n",
    "    \"\"\"\n",
    "    # Build vocabulary\n",
    "    word_counts = Counter(itertools.chain(*sentences))\n",
    "    \n",
    "    # Mapping from index to word\n",
    "    vocabulary_inv = [x[0] for x in word_counts.most_common()]\n",
    "    \n",
    "    # Mapping from word to index\n",
    "    vocabulary = {x: i for i, x in enumerate(vocabulary_inv)}\n",
    "    \n",
    "    return vocabulary, vocabulary_inv\n",
    "\n",
    "def build_input_data(sentences, labels, vocabulary):\n",
    "    \"\"\"\n",
    "    Maps sentences and labels to vectors based on a vocabulary.\n",
    "    \"\"\"\n",
    "    x = np.array([\n",
    "            [vocabulary[word] for word in sentence]\n",
    "            for sentence in sentences])\n",
    "    y = np.array(labels)\n",
    "    \n",
    "    return x, y\n",
    "\n",
    "\"\"\"\n",
    "Loads and preprocesses data for the MR dataset.\n",
    "Returns input vectors, labels, vocabulary, and inverse vocabulary.\n",
    "\"\"\"\n",
    "# Load and preprocess data\n",
    "sentences, labels = load_data_and_labels()\n",
    "sentences_padded = pad_sentences(sentences)\n",
    "vocabulary, vocabulary_inv = build_vocab(sentences_padded)\n",
    "x, y = build_input_data(sentences_padded, labels, vocabulary)\n",
    "\n",
    "vocab_size = len(vocabulary)\n",
    "\n",
    "# randomly shuffle data\n",
    "np.random.seed(10)\n",
    "shuffle_indices = np.random.permutation(np.arange(len(y)))\n",
    "x_shuffled = x[shuffle_indices]\n",
    "y_shuffled = y[shuffle_indices]\n",
    "\n",
    "# split train/dev set\n",
    "# there are a total of 10662 labeled examples to train on\n",
    "x_train, x_dev = x_shuffled[:-1000], x_shuffled[-1000:]\n",
    "y_train, y_dev = y_shuffled[:-1000], y_shuffled[-1000:]\n",
    "\n",
    "sentence_size = x_train.shape[1]\n",
    "\n",
    "print('Train/Dev split: %d/%d' % (len(y_train), len(y_dev)))\n",
    "print('train shape:', x_train.shape)\n",
    "print('dev shape:', x_dev.shape)\n",
    "print('vocab_size', vocab_size)\n",
    "print('sentence max words', sentence_size)"
   ]
  },
  {
   "cell_type": "code",
   "execution_count": 440,
   "metadata": {},
   "outputs": [
    {
     "name": "stdout",
     "output_type": "stream",
     "text": [
      "batch size 50\nembedding dimensions 300\n"
     ]
    }
   ],
   "source": [
    "import mxnet as mx\n",
    "import sys,os\n",
    "\n",
    "'''\n",
    "Define batch size and the place holders for network inputs and outputs\n",
    "'''\n",
    "\n",
    "batch_size = 50\n",
    "print('batch size', batch_size)\n",
    "\n",
    "input_x = mx.sym.Variable('data') # placeholder for input data\n",
    "input_y = mx.sym.Variable('softmax_label') # placeholder for output label\n",
    "\n",
    "\n",
    "'''\n",
    "Define the first network layer (embedding)\n",
    "'''\n",
    "\n",
    "# create embedding layer to learn representation of words in a lower dimensional subspace (much like word2vec)\n",
    "num_embed = 300 # dimensions to embed words into\n",
    "print('embedding dimensions', num_embed)\n",
    "\n",
    "embed_layer = mx.sym.Embedding(data=input_x, input_dim=vocab_size, output_dim=num_embed, name='vocab_embed')\n",
    "\n",
    "# reshape embedded data for next layer\n",
    "conv_input = mx.sym.Reshape(data=embed_layer, target_shape=(batch_size, 1, sentence_size, num_embed))\n"
   ]
  },
  {
   "cell_type": "code",
   "execution_count": 441,
   "metadata": {},
   "outputs": [
    {
     "name": "stdout",
     "output_type": "stream",
     "text": [
      "convolution filters [3, 4, 5]\n"
     ]
    }
   ],
   "source": [
    "# create convolution + (max) pooling layer for each filter operation\n",
    "filter_list=[3, 4, 5] # the size of filters to use\n",
    "print('convolution filters', filter_list)\n",
    "\n",
    "num_filter=100\n",
    "pooled_outputs = []\n",
    "for filter_size in filter_list:\n",
    "    convi = mx.sym.Convolution(data=conv_input, kernel=(filter_size, num_embed), num_filter=num_filter)\n",
    "    relui = mx.sym.Activation(data=convi, act_type='relu')\n",
    "    pooli = mx.sym.Pooling(data=relui, pool_type='max', kernel=(sentence_size - filter_size + 1, 1), stride=(1, 1))\n",
    "    pooled_outputs.append(pooli)\n",
    "\n",
    "# combine all pooled outputs\n",
    "total_filters = num_filter * len(filter_list)\n",
    "concat = mx.sym.Concat(*pooled_outputs, dim=1)\n",
    "\n",
    "# reshape for next layer\n",
    "h_pool = mx.sym.Reshape(data=concat, target_shape=(batch_size, total_filters))"
   ]
  },
  {
   "cell_type": "code",
   "execution_count": 443,
   "metadata": {},
   "outputs": [
    {
     "name": "stdout",
     "output_type": "stream",
     "text": [
      "dropout probability 0.5\n"
     ]
    }
   ],
   "source": [
    "# dropout layer\n",
    "dropout = 0.5\n",
    "print('dropout probability', dropout)\n",
    "\n",
    "if dropout > 0.0:\n",
    "    h_drop = mx.sym.Dropout(data=h_pool, p=dropout)\n",
    "else:\n",
    "    h_drop = h_pool"
   ]
  },
  {
   "cell_type": "code",
   "execution_count": 449,
   "metadata": {},
   "outputs": [],
   "source": [
    "# fully connected layer\n",
    "num_label = 2\n",
    "\n",
    "cls_weight = mx.sym.Variable('cls_weight')\n",
    "cls_bias = mx.sym.Variable('cls_bias')\n",
    "\n",
    "fc = mx.sym.FullyConnected(data=h_drop, weight=cls_weight, bias=cls_bias, num_hidden=num_label)\n",
    "\n",
    "# softmax output\n",
    "sm = mx.sym.SoftmaxOutput(data=fc, label=input_y, name='softmax')\n",
    "\n",
    "# set CNN pointer to the \"back\" of the network\n",
    "cnn = sm"
   ]
  },
  {
   "cell_type": "code",
   "execution_count": 450,
   "metadata": {},
   "outputs": [],
   "source": [
    "del dict\n",
    "\n",
    "from collections import namedtuple\n",
    "import math\n",
    "import time\n",
    "\n",
    "# Define the structure of our CNN Model (as a named tuple)\n",
    "CNNModel = namedtuple(\"CNNModel\", ['cnn_exec', 'symbol', 'data', 'label', 'param_blocks'])\n",
    "\n",
    "# Define what device to train/test on\n",
    "#ctx = mx.gpu(0)\n",
    "# If you have no GPU on your machine change this to\n",
    "ctx = mx.cpu(0)\n",
    "\n",
    "arg_names = cnn.list_arguments()\n",
    "\n",
    "input_shapes = {}\n",
    "input_shapes['data'] = (batch_size, sentence_size)\n",
    "\n",
    "arg_shape, out_shape, aux_shape = cnn.infer_shape(**input_shapes)\n",
    "arg_arrays = [mx.nd.zeros(s, ctx) for s in arg_shape]\n",
    "args_grad = {}\n",
    "for shape, name in zip(arg_shape, arg_names):\n",
    "    if name in ['softmax_label', 'data']: # input, output\n",
    "        continue\n",
    "    args_grad[name] = mx.nd.zeros(shape, ctx)\n",
    "\n",
    "cnn_exec = cnn.bind(ctx=ctx, args=arg_arrays, args_grad=args_grad, grad_req='add')\n",
    "\n",
    "param_blocks = []\n",
    "arg_dict = dict(zip(arg_names, cnn_exec.arg_arrays))\n",
    "initializer = mx.initializer.Uniform(0.1)\n",
    "for i, name in enumerate(arg_names):\n",
    "    if name in ['softmax_label', 'data']: # input, output\n",
    "        continue\n",
    "    initializer(mx.init.InitDesc(name), arg_dict[name])\n",
    "\n",
    "    param_blocks.append( (i, arg_dict[name], args_grad[name], name) )\n",
    "\n",
    "data = cnn_exec.arg_dict['data']\n",
    "label = cnn_exec.arg_dict['softmax_label']\n",
    "\n",
    "cnn_model= CNNModel(cnn_exec=cnn_exec, symbol=cnn, data=data, label=label, param_blocks=param_blocks)"
   ]
  },
  {
   "cell_type": "code",
   "execution_count": 451,
   "metadata": {},
   "outputs": [
    {
     "name": "stdout",
     "output_type": "stream",
     "text": [
      "optimizer rmsprop\nmaximum gradient 5.0\nlearning rate (step size) 0.0005\nepochs to train for 50\n"
     ]
    }
   ],
   "source": [
    "'''\n",
    "Train the cnn_model using back prop\n",
    "'''\n",
    "\n",
    "optimizer = 'rmsprop'\n",
    "max_grad_norm = 5.0\n",
    "learning_rate = 0.0005\n",
    "epoch = 50\n",
    "\n",
    "print('optimizer', optimizer)\n",
    "print('maximum gradient', max_grad_norm)\n",
    "print('learning rate (step size)', learning_rate)\n",
    "print('epochs to train for', epoch)\n",
    "\n",
    "# create optimizer\n",
    "opt = mx.optimizer.create(optimizer)\n",
    "opt.lr = learning_rate\n",
    "\n",
    "updater = mx.optimizer.get_updater(opt)\n",
    "\n",
    "# For each training epoch\n",
    "for iteration in range(epoch):\n",
    "    tic = time.time()\n",
    "    num_correct = 0\n",
    "    num_total = 0\n",
    "    \n",
    "        # Over each batch of training data\n",
    "    for begin in range(0, x_train.shape[0], batch_size):\n",
    "        batchX = x_train[begin:begin+batch_size]\n",
    "        batchY = y_train[begin:begin+batch_size]\n",
    "        if batchX.shape[0] != batch_size:\n",
    "            continue\n",
    "\n",
    "        cnn_model.data[:] = batchX\n",
    "        cnn_model.label[:] = batchY\n",
    "\n",
    "        # forward\n",
    "        cnn_model.cnn_exec.forward(is_train=True)\n",
    "\n",
    "        # backward\n",
    "        cnn_model.cnn_exec.backward()\n",
    "\n",
    "        # eval on training data\n",
    "        num_correct += sum(batchY == np.argmax(cnn_model.cnn_exec.outputs[0].asnumpy(), axis=1))\n",
    "        num_total += len(batchY)\n",
    "\n",
    "        # update weights\n",
    "        norm = 0\n",
    "        for idx, weight, grad, name in cnn_model.param_blocks:\n",
    "            grad /= batch_size\n",
    "            l2_norm = mx.nd.norm(grad).asscalar()\n",
    "            norm += l2_norm * l2_norm\n",
    "        norm = math.sqrt(norm)\n",
    "        for idx, weight, grad, name in cnn_model.param_blocks:\n",
    "            if norm > max_grad_norm:\n",
    "                grad *= (max_grad_norm / norm)\n",
    "\n",
    "            updater(idx, grad, weight)\n",
    "\n",
    "            # reset gradient to zero\n",
    "            grad[:] = 0.0\n",
    "\n",
    "    # Decay learning rate for this epoch to ensure we are not \"overshooting\" optima\n",
    "    if iteration % 50 == 0 and iteration > 0:\n",
    "        opt.lr *= 0.5\n",
    "        print('reset learning rate to %g' % opt.lr)\n",
    "\n",
    "    # End of training loop for this epoch\n",
    "    toc = time.time()\n",
    "    train_time = toc - tic\n",
    "    train_acc = num_correct * 100 / float(num_total)\n",
    "\n",
    "    # Saving checkpoint to disk\n",
    "    if (iteration + 1) % 10 == 0:\n",
    "        prefix = 'cnn'\n",
    "        cnn_model.symbol.save('./%s-symbol.json' % prefix)\n",
    "        save_dict = {('arg:%s' % k) : v  for k, v in cnn_model.cnn_exec.arg_dict.items()}\n",
    "        save_dict.update({('aux:%s' % k) : v for k, v in cnn_model.cnn_exec.aux_dict.items()})\n",
    "        param_name = './%s-%04d.params' % (prefix, iteration)\n",
    "        mx.nd.save(param_name, save_dict)\n",
    "        print('Saved checkpoint to %s' % param_name)\n",
    "    # Evaluate model after this epoch on dev (test) set\n",
    "    num_correct = 0\n",
    "    num_total = 0\n",
    "\n",
    "    # For each test batch\n",
    "    for begin in range(0, x_dev.shape[0], batch_size):\n",
    "        batchX = x_dev[begin:begin+batch_size]\n",
    "        batchY = y_dev[begin:begin+batch_size]\n",
    "\n",
    "        if batchX.shape[0] != batch_size:\n",
    "            continue\n",
    "\n",
    "        cnn_model.data[:] = batchX\n",
    "        cnn_model.cnn_exec.forward(is_train=False)\n",
    "\n",
    "        num_correct += sum(batchY == np.argmax(cnn_model.cnn_exec.outputs[0].asnumpy(), axis=1))\n",
    "        num_total += len(batchY)\n",
    "\n",
    "    dev_acc = num_correct * 100 / float(num_total)\n",
    "    print('Iter [%d] Train: Time: %.3fs, Training Accuracy: %.3f \\\n",
    "            --- Dev Accuracy thus far: %.3f' % (iteration, train_time, train_acc, dev_acc))      \n"
   ]
  },
  {
   "cell_type": "code",
   "execution_count": null,
   "metadata": {},
   "outputs": [],
   "source": []
  },
  {
   "cell_type": "code",
   "execution_count": null,
   "metadata": {},
   "outputs": [],
   "source": []
  },
  {
   "cell_type": "code",
   "execution_count": null,
   "metadata": {},
   "outputs": [],
   "source": []
  },
  {
   "cell_type": "code",
   "execution_count": null,
   "metadata": {},
   "outputs": [],
   "source": []
  },
  {
   "cell_type": "code",
   "execution_count": null,
   "metadata": {},
   "outputs": [],
   "source": []
  },
  {
   "cell_type": "code",
   "execution_count": null,
   "metadata": {},
   "outputs": [],
   "source": []
  },
  {
   "cell_type": "code",
   "execution_count": 139,
   "metadata": {},
   "outputs": [
    {
     "name": "stdout",
     "output_type": "stream",
     "text": [
      "      age  points  price\n4    2012      87   65.0\n25   2011      87   69.0\n35   2010      86   50.0\n78   2015      86   25.0\n145  2013      91   64.0\n"
     ]
    }
   ],
   "source": [
    "del result['title']\n",
    "del result['variety']\n",
    "del result['winery']\n",
    "del result['taster_twitter_handle']\n",
    "del result['taster_name']\n",
    "del result['region_1']\n",
    "del result['region_2']\n",
    "del result['province']\n",
    "del result['designation']\n",
    "del result['description']\n",
    "del result['country']\n",
    "\n",
    "print(result.head())"
   ]
  },
  {
   "cell_type": "code",
   "execution_count": null,
   "metadata": {},
   "outputs": [],
   "source": []
  },
  {
   "cell_type": "code",
   "execution_count": 159,
   "metadata": {},
   "outputs": [
    {
     "name": "stdout",
     "output_type": "stream",
     "text": [
      "0.21958934532344876\n0.3957717882779927\n"
     ]
    }
   ],
   "source": [
    "def clean_dataset(df: object) -> object:\n",
    "    assert isinstance(df, pd.DataFrame), \"df needs to be a pd.DataFrame\"\n",
    "    df.dropna(inplace=True)\n",
    "    indices_to_keep = ~df.isin([np.nan, np.inf, -np.inf]).any(1)\n",
    "    return df[indices_to_keep].astype(np.float64)\n",
    "\n",
    "clean_dataset(result)\n",
    "\n",
    "x = result[['price', 'age']]\n",
    "y = result['points']\n",
    "x_train, x_test, y_train, y_test = train_test_split(x,y)\n",
    "\n",
    "regressor = LinearRegression()\n",
    "regressor.fit(x_train, y_train)\n",
    "y_predictions = regressor.predict(x_test)\n",
    "print(regressor.score(x_test, y_test))\n",
    "\n",
    "quadratic_featurizer = PolynomialFeatures(degree=6)\n",
    "x_train_quadratic = quadratic_featurizer.fit_transform(x_train)\n",
    "x_test_quadratic = quadratic_featurizer.fit_transform(x_test)\n",
    "\n",
    "regressor_quadratic = LinearRegression()\n",
    "regressor_quadratic.fit(x_train_quadratic, y_train)\n",
    "yy_predictions = regressor_quadratic.predict(x_test_quadratic)\n",
    "print(regressor_quadratic.score(x_test_quadratic, y_test))\n",
    "\n",
    "#you can add in mean score after cross validations to get a more accurate value"
   ]
  },
  {
   "cell_type": "code",
   "execution_count": null,
   "metadata": {},
   "outputs": [],
   "source": [
    ""
   ]
  }
 ],
 "metadata": {
  "kernelspec": {
   "display_name": "Python 2",
   "language": "python",
   "name": "python2"
  },
  "language_info": {
   "codemirror_mode": {
    "name": "ipython",
    "version": 2
   },
   "file_extension": ".py",
   "mimetype": "text/x-python",
   "name": "python",
   "nbconvert_exporter": "python",
   "pygments_lexer": "ipython2",
   "version": "2.7.6"
  }
 },
 "nbformat": 4,
 "nbformat_minor": 0
}
